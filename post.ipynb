{
 "cells": [
  {
   "cell_type": "code",
   "execution_count": 1,
   "metadata": {},
   "outputs": [],
   "source": [
    "from requests import post, get\n",
    "\n",
    "\n",
    "def pesquisa(url_yt):\n",
    "\n",
    "    headers = {'authority': 'x2download.app',\n",
    "    'accept': '*/*',\n",
    "    'accept-language': 'pt-BR,pt;q=0.9,en-US;q=0.8,en;q=0.7',\n",
    "    'content-type': 'application/x-www-form-urlencoded; charset=UTF-8',\n",
    "    'origin': 'https://x2download.app',\n",
    "    'referer': 'https://x2download.app/pt25',\n",
    "    'sec-ch-ua': '\"Not?A_Brand\";v=\"8\", \"Chromium\";v=\"108\", \"Google Chrome\";v=\"108\"',\n",
    "    'user-agent': 'Mozilla/5.0 (X11; Linux x86_64)',\n",
    "    'x-requested-with': 'XMLHttpRequest',\n",
    "    }\n",
    "\n",
    "    data =  {'q': url_yt, 'vt': 'home',}\n",
    "    response = post('https://x2download.app/api/ajaxSearch', headers=headers, data=data).json()\n",
    "    return response\n",
    "\n",
    "\n",
    "def convert_yt(url, tipo='mp3', quality='128'):\n",
    "        \n",
    "    headers =  {\n",
    "    'authority': 'dd163.auadyyzzfaffa.xyz',\n",
    "    'accept': '*/*',\n",
    "    'accept-language': 'pt-BR,pt;q=0.9,en-US;q=0.8,en;q=0.7',\n",
    "    'content-type': 'application/x-www-form-urlencoded; charset=UTF-8',\n",
    "    'origin': 'https://x2download.app',\n",
    "    'referer': 'https://x2download.app/',\n",
    "    'user-agent': 'Mozilla/5.0 (X11; Linux x86_64)',\n",
    "    'x-requested-key': 'de0cfuirtgf67a',\n",
    "    }\n",
    "    \n",
    "    info_v = pesquisa(url_yt=url)\n",
    "\n",
    "    if tipo == 'mp3':\n",
    "        data = {\n",
    "        'v_id': info_v['vid'],\n",
    "        'ftype': tipo,\n",
    "        'fquality': quality,\n",
    "        'token': info_v['token'],\n",
    "        'timeExpire': info_v['timeExpires'],\n",
    "        'client': 'X2Download.app',\n",
    "        }\n",
    "        url = 'https://backend.svcenter.xyz/api/convert-by-45fc4be8916916ba3b8d61dd6e0d6994'\n",
    "        response = post(url, headers=headers, data=data).json()['d_url']\n",
    "    else:\n",
    "\n",
    "        data = {\n",
    "        'v_id': info_v['vid'],\n",
    "        'ftype': tipo,\n",
    "        'fquality': quality,\n",
    "        'fname': info_v['fn'],\n",
    "        'token': info_v['token'],\n",
    "        'timeExpire': info_v['timeExpires'],\n",
    "        }\n",
    "        url = 'https://dd163.auadyyzzfaffa.xyz/api/json/convert'   \n",
    "\n",
    "        response = post(url, headers=headers, data=data).json()['result']\n",
    "    if response == 'Converting':\n",
    "        response = post(url, headers=headers, data=data).json()['result']\n",
    "    return response, info_v['title']\n",
    "\n",
    "def download(url, tipo='mp4', quality='480p'):\n",
    "    headers =  {\n",
    "    'authority': 've142.aadika.xyz',\n",
    "    'accept': 'text/html,application/xhtml+xml,application/xml;q=0.9,image/avif,image/webp,image/apng,*/*;q=0.8,application/signed-exchange;v=b3;q=0.9',\n",
    "    'accept-language': 'pt-BR,pt;q=0.9,en-US;q=0.8,en;q=0.7',\n",
    "    'referer': 'https://x2download.app/',\n",
    "    'user-agent': 'Mozilla/5.0 (X11; Linux x86_64)',}\n",
    "\n",
    "    params = {\n",
    "        'f': 'X2Download.app',\n",
    "    }\n",
    "\n",
    "    resposta = convert_yt(url, tipo=tipo, quality=quality)\n",
    "\n",
    "    with open(f'{resposta[1]}.{tipo}', 'wb') as f:\n",
    "        f.write(get(url=resposta[0], headers=headers, params=params, stream=True).content)"
   ]
  },
  {
   "cell_type": "code",
   "execution_count": 2,
   "metadata": {},
   "outputs": [],
   "source": [
    "url = 'https://youtu.be/XSM-oj3Csyg'\n",
    "download(url=url, tipo='mp3', quality='128')"
   ]
  }
 ],
 "metadata": {
  "kernelspec": {
   "display_name": ".venv",
   "language": "python",
   "name": "python3"
  },
  "language_info": {
   "codemirror_mode": {
    "name": "ipython",
    "version": 3
   },
   "file_extension": ".py",
   "mimetype": "text/x-python",
   "name": "python",
   "nbconvert_exporter": "python",
   "pygments_lexer": "ipython3",
   "version": "3.10.8"
  },
  "orig_nbformat": 4,
  "vscode": {
   "interpreter": {
    "hash": "f87743379b6cc57b43d0f6cc3c69292bb869d3cbd5e32c49c1a3521e8e5a92b7"
   }
  }
 },
 "nbformat": 4,
 "nbformat_minor": 2
}
